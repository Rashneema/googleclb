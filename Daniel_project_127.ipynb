{
  "nbformat": 4,
  "nbformat_minor": 0,
  "metadata": {
    "colab": {
      "provenance": [],
      "authorship_tag": "ABX9TyP8IEWMt3r4bxeEVGO3grRq",
      "include_colab_link": true
    },
    "kernelspec": {
      "name": "python3",
      "display_name": "Python 3"
    },
    "language_info": {
      "name": "python"
    }
  },
  "cells": [
    {
      "cell_type": "markdown",
      "metadata": {
        "id": "view-in-github",
        "colab_type": "text"
      },
      "source": [
        "<a href=\"https://colab.research.google.com/github/Rashneema/googleclb/blob/main/Daniel_project_127.ipynb\" target=\"_parent\"><img src=\"https://colab.research.google.com/assets/colab-badge.svg\" alt=\"Open In Colab\"/></a>"
      ]
    },
    {
      "cell_type": "code",
      "execution_count": null,
      "metadata": {
        "id": "omFR2jU7tQyy"
      },
      "outputs": [],
      "source": [
        "bright_stars_url = 'https://en.wikipedia.org/wiki/List_of_brightest_stars_and_other_record_stars'\n",
        "\n",
        "page = requests.get(bright_stars_url)\n",
        "print(page)\n",
        "\n",
        "soup = bs(page.text,'html.parser')\n",
        "\n",
        "star_table = soup.find('table')\n",
        "\n",
        "temp_list= []\n",
        "table_rows = star_table.find_all('tr')\n",
        "for tr in table_rows:\n",
        "    td = tr.find_all('td')\n",
        "    row = [i.text.rstrip() for i in td]\n",
        "    temp_list.append(row)\n",
        "\n",
        "\n",
        "\n",
        "Star_names = []\n",
        "Distance =[]\n",
        "Mass = []\n",
        "Radius =[]\n",
        "Lum = []\n",
        "\n",
        "for i in range(1,len(temp_list)):\n",
        "    Star_names.append(temp_list[i][1])\n",
        "    Distance.append(temp_list[i][3])\n",
        "    Mass.append(temp_list[i][5])\n",
        "    Radius.append(temp_list[i][6])\n",
        "    Lum.append(temp_list[i][7])\n",
        "    \n",
        "df2 = pd.DataFrame(list(zip(Star_names,Distance,Mass,Radius,Lum)),columns=['Star_name','Distance','Mass','Radius','Luminosity'])\n",
        "print(df2)\n",
        "\n",
        "df2.to_csv('bright_stars.csv')"
      ]
    }
  ]
}